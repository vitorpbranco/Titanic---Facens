{
  "cells": [
    {
      "cell_type": "markdown",
      "source": [
        "# **Trabalho Final**\n",
        "### Algoritmos e Programação com Linguagem Python\n",
        "---\n",
        "\n",
        "**Orientações Gerais:**\n",
        "\n",
        "* Esta é o trabalho final prático onde serão trabalhados conceitos \n",
        "apresentados e exercitados em sala de aula.\n",
        "\n",
        "* Aspéctos como clareza e organização do código, comentários, raciocínio lógico, coerência no nome de variáveis, utilização das estruturas mais adequadas para a solução dos problemas e o funcionamento adequado serão analisados e irão compor o valor da nota final.\n",
        "\n",
        "* Procure entender exatamente o que se pede antes de iniciar a codificação. Quando se sabe o que é necessário fazer, a codificação fica mais fácil, mais eficiente e mais divertida ;-).\n",
        "\n",
        "* Faça o upload do notebook completo nomeado da seguinte forma: *nome_sobrenome_RA.ipynb*. \n",
        "\n",
        "* No caso de grupos, informar ao professor os membros de cada grupo e cada um deverá importar o arquivo no Canvas individualmente.\n",
        "\n",
        "* Arquivos com nomes incorretos serão desconsiderados!\n",
        "\n",
        "* Não deixem dúvidas para trás! Acessem os grupos combinados ou entrem em contato com o professor. \n",
        "\n",
        "✌ Sucesso o/\n",
        "\n",
        "\n",
        "\n",
        "\n"
      ],
      "metadata": {
        "id": "LvTRZZisW_3u"
      }
    },
    {
      "cell_type": "markdown",
      "metadata": {
        "id": "xEBhSxBGTgS0"
      },
      "source": [
        "# RMS Titanic\n",
        "\n",
        "O RMS Titanic foi um navio de passageiros britânico operado pela White Star Line e construído pelos estaleiros da Harland and Wolff em Belfast. Foi a segunda embarcação da Classe Olympic de transatlânticos depois do RMS Olympic e seguido pelo HMHS Britannic. Projetado pelos engenheiros navais Alexander Carlisle e Thomas Andrews, sua construção começou em março de 1909 e ele foi lançado ao mar em maio de 1911. O Titanic foi pensado para ser o navio mais luxuoso e mais seguro de sua época, gerando lendas que era supostamente \"inafundável\".\n",
        "\n",
        "A embarcação partiu em sua viagem inaugural de Southampton para Nova Iorque em 10 de abril de 1912, no caminho passando em Cherbourg-Octeville na França e por Queenstown na Irlanda. Ele colidiu com um iceberg às 23h40min do dia 14 de abril e afundou na madrugada do dia seguinte matando mais de 1500 pessoas, sendo um dos maiores desastres marítimos em tempos de paz de toda a história. Seu naufrágio destacou vários pontos fracos de seu projeto, deficiências nos procedimentos de evacuação de emergência e falhas nas regulamentações marítimas da época. Comissões de inquérito foram instauradas nos Estados Unidos e no Reino Unido, levando a mudanças nas leis internacionais de navegação que permanecem em vigor mais de um século depois.\n",
        "\n",
        "Os destroços do Titanic foram procurados por décadas até serem encontrados em 1985 por uma equipe liderada por Robert Ballard. Ele se encontra a 3843 m de profundidade e a 650 km ao sudeste de Terra Nova no Canadá. Sua história e naufrágio permaneceram no imaginário popular durante décadas, levando a produção de vários livros e filmes a seu respeito, mais notavelmente o filme Titanic de 1997. Até hoje o Titanic permanece como um dos navios mais famosos da história, com seus destroços atraindo várias expedições de exploração ao longo dos anos.\n",
        "\n",
        "*Fonte:* [WikiPedia](https://pt.wikipedia.org/wiki/RMS_Titanic)\n",
        "\n",
        "--------"
      ]
    },
    {
      "cell_type": "markdown",
      "metadata": {
        "id": "L1MhpnxMTgS2"
      },
      "source": [
        "A equipe da [Udacity](https://udacity.com) disponibilizou informações sobre uma parte dos passageiros à bordo do RMS Titanic no dia daquela tragédia. Esse _dataset_ que contém informações reais vem sendo utilizado em diversos estudos de caso, além de servir de base para aprendizado de Ciência de Dados, Estatística e Machine Learning.\n",
        "\n",
        "O arquivo **titanic_data.csv** contém informações reais sobre os passageiros organizadas da seguinte forma:\n",
        "\n",
        "- Survived (Sobreviveu): 0 = Não, 1 = Sim\n",
        "- Pclass (Classe): Classe de ingresso 1 = 1º, 2 = 2º, 3 = 3º\n",
        "- Sex (Sexo): Sexo do passageiro\n",
        "- Age (Idade): Idade em anos\n",
        "- Sibsp: Quantidade de irmãos / cônjuges a bordo do Titanic\n",
        "- Parch: Quantidade de pais / crianças a bordo do Titanic\n",
        "- Ticket (Bilhete): Número do bilhete de embarque\n",
        "- Fare (Tarifa): Tarifa paga pelo Passageiro\n",
        "- Cabin (Cabine): Número de cabine\n",
        "- Embarked (Embarque): Porto de Embarque (C = Cherbourg, Q = Queenstown, S = Southampton)\n",
        "\n",
        "O objetivo deste estudo é obter algumas informações estatísticas sobre a tragédia e realizar alguns _insights_ a respeito dos tripulantes e das circunstâncias do acidente.\n",
        "\n",
        "Efetue a carga do arquivo através da biblioteca _Pandas_ e a partir do _DataFrame_ gerado, efetue as operações necessárias para responder as questões.\n"
      ]
    },
    {
      "cell_type": "markdown",
      "metadata": {
        "id": "O2wsN6iSTgS2"
      },
      "source": [
        "## Importando o DataSet"
      ]
    },
    {
      "cell_type": "markdown",
      "metadata": {
        "id": "B4UlEZmATgS3"
      },
      "source": [
        "1 - Efetuar a leitura do dataset através do Pandas, gerando um DataFrame de nome tit, levando-se em consideração que o arquivo encontra-se na mesma pasta do notebook."
      ]
    },
    {
      "cell_type": "code",
      "source": [
        "dir = os.getcwd()\n",
        "    \ttit = pd.read_csv(dir + \"\\\\titanic_data.csv\") "
      ],
      "metadata": {
        "id": "WI7aXfnzTjHQ",
        "colab": {
          "base_uri": "https://localhost:8080/",
          "height": 130
        },
        "outputId": "cc97e6e3-8e09-46bf-9dd5-bac5d3a04c70"
      },
      "execution_count": 1,
      "outputs": [
        {
          "output_type": "error",
          "ename": "IndentationError",
          "evalue": "ignored",
          "traceback": [
            "\u001b[0;36m  File \u001b[0;32m\"<ipython-input-1-d95237c5e5a5>\"\u001b[0;36m, line \u001b[0;32m2\u001b[0m\n\u001b[0;31m    tit = pd.read_csv(dir + \"\\\\titanic_data.csv\")\u001b[0m\n\u001b[0m    ^\u001b[0m\n\u001b[0;31mIndentationError\u001b[0m\u001b[0;31m:\u001b[0m unexpected indent\n"
          ]
        }
      ]
    },
    {
      "cell_type": "markdown",
      "metadata": {
        "id": "2iQYh_DATgS4"
      },
      "source": [
        "## Conhecendo o DataSet"
      ]
    },
    {
      "cell_type": "markdown",
      "metadata": {
        "id": "rypSFW-qTgS4"
      },
      "source": [
        "2 - Quantas linhas e colunas tem o dataset? Quais os tipos das colunas?"
      ]
    },
    {
      "cell_type": "code",
      "source": [
        "numero_linhas = len(tit) --> 891\n",
        "   \t numero_colunas = len(tit.columns) --> 12\n",
        "   \t print(tit.dtypes) -->  PassengerId      int64\n",
        "\t\t\t\tSurvived         int64\n",
        "\t\t\t\tPclass           int64\n",
        "\t\t\t\tName            object\n",
        "\t\t\t\tSex             object\n",
        "\t\t\t\tAge            float64\n",
        "\t\t\t\tSibSp            int64\n",
        "\t\t\t\tParch            int64\n",
        "\t\t\t\tTicket          object\n",
        "\t\t\t\tFare           float64\n",
        "\t\t\t\tCabin           object\n",
        "\t\t\t\tEmbarked        object"
      ],
      "metadata": {
        "id": "IyrMKzaQTkkx"
      },
      "execution_count": null,
      "outputs": []
    },
    {
      "cell_type": "markdown",
      "metadata": {
        "id": "L40fXuSRTgS5"
      },
      "source": [
        "3 - Mostre os dados dos dez primeiros e 8 últimos registros do dataset."
      ]
    },
    {
      "cell_type": "code",
      "source": [
        "for index, row in tit.iterrows():\n",
        "       \t\tif int(index) <= 10 or index >= 883:\n",
        "            \t\tprint(str(index) + \" - \"+ str(row))\n"
      ],
      "metadata": {
        "id": "QEFq1_V8TmAZ"
      },
      "execution_count": null,
      "outputs": []
    },
    {
      "cell_type": "markdown",
      "metadata": {
        "id": "cZyn3_NOTgS6"
      },
      "source": [
        "4 - Cálculos envolvendo colunas numéricas com dados faltantes podem sofrer impacto. É possível afirmar se há dados faltantes no dataset? Caso positivo, quais e quantos seriam esses dados? Preencha os dados faltantes de forma que não influenciem em operações futuras."
      ]
    },
    {
      "cell_type": "code",
      "source": [
        "É possível com a seguinte expressão:\n",
        "\n",
        "\t\tRetorna a quantidade de vazios por coluna:\tprint(tit.isna().sum())\n",
        "\t\t\t\t\t\t\t\t\tPassengerId      0\n",
        "\t\t\t\t\t\t\t\t\tSurvived         0\n",
        "\t\t\t\t\t\t\t\t\tPclass           0\n",
        "\t\t\t\t\t\t\t\t\tName             0\n",
        "\t\t\t\t\t\t\t\t\tSex              0\n",
        "\t\t\t\t\t\t\t\t\tAge            177\n",
        "\t\t\t\t\t\t\t\t\tSibSp            0\n",
        "\t\t\t\t\t\t\t\t\tParch            0\n",
        "\t\t\t\t\t\t\t\t\tTicket           0\n",
        "\t\t\t\t\t\t\t\t\tFare             0\n",
        "\t\t\t\t\t\t\t\t\tCabin          687\n",
        "\t\t\t\t\t\t\t\t\tEmbarked         2\n",
        "\t\t\n",
        "\n",
        "\t\tRetorna o valor total de vazios no dataset: \tint(tit.isna().sum().sum())\n",
        "\t \t\t\t\t\t\t\t\t866 valores vazio\n",
        "\t\t\n",
        "\n",
        "\t\tSubstitui valores vazios por 0:\t\ttit.fillna(value=0, inplace=True)"
      ],
      "metadata": {
        "id": "Mj5d7y5ZTnbi"
      },
      "execution_count": null,
      "outputs": []
    },
    {
      "cell_type": "markdown",
      "metadata": {
        "id": "NkmmE-G1TgS6"
      },
      "source": [
        "## Adequando o DataSet"
      ]
    },
    {
      "cell_type": "markdown",
      "metadata": {
        "id": "sHIXSM-3TgS6"
      },
      "source": [
        "5 - Uma vez que algumas colunas não serão utilizadas, eventualmente é melhor excluí-las para que não interfiram na análise. Assim, exclua do dataset as colunas Sibsp, Parch e Ticket."
      ]
    },
    {
      "cell_type": "code",
      "source": [
        "Remover as colunas desejadas:\t\n",
        "\n",
        "\t\t tit.drop([\"SibSp\", \"Parch\", \"Ticket\"], axis=1, inplace=True)"
      ],
      "metadata": {
        "id": "TovKKLO8TouW"
      },
      "execution_count": null,
      "outputs": []
    },
    {
      "cell_type": "markdown",
      "metadata": {
        "id": "Ywm6ZYE_TgS6"
      },
      "source": [
        "6 - Renomear as colunas restantes para a lingua portuguesa, utilizando os seguintes nomes de colunas: IdPassageiro, Sobreviveu, Classe, Nome, Sexo, Idade, Tarifa, Cabine e Embarque."
      ]
    },
    {
      "cell_type": "code",
      "source": [
        "Renomear as colunas:\n",
        "\n",
        "\t\ttit.rename(columns={str(lista_colunas[0]): 'IdPassageiro', str(lista_colunas[1]): \"Sobreviveu\", str(lista_colunas[2]): 'Classe',\n",
        "                        \tstr(lista_colunas[3]): \"Nome\", str(lista_colunas[4]): 'Sexo', str(lista_colunas[5]): \"Idade\",\n",
        "                        \tstr(lista_colunas[6]): 'Tarifa', str(lista_colunas[7]): \"Cabine\", str(lista_colunas[8]): 'Embarque'})\n"
      ],
      "metadata": {
        "id": "WwFGynIHTp0r"
      },
      "execution_count": null,
      "outputs": []
    },
    {
      "cell_type": "markdown",
      "metadata": {
        "id": "om9yLJRSTgS7"
      },
      "source": [
        "7 - Alterar o conteudo da coluna Sobreviveu para:\n",
        "- 0 => Não\n",
        "- 1 => Sim"
      ]
    },
    {
      "cell_type": "code",
      "source": [
        "Alterar o conteudo da coluna Sobreviveu:\n",
        "\n",
        "\t\tcont = 0\n",
        "    \t\tfor index, row in tit.iterrows():\n",
        "        \t\tif row[\"Sobreviveu\"] == 0:\n",
        "            \t\t\ttit.iat[cont, 1] = \"Nao\"\n",
        "            \t\t\tcont += 1\n",
        "        \t\telse:\n",
        "            \t\t\ttit.iat[cont, 1] = \"Sim\"\n",
        "            \t\t\tcont += 1"
      ],
      "metadata": {
        "id": "ffDQ85AJTrxZ"
      },
      "execution_count": null,
      "outputs": []
    },
    {
      "cell_type": "markdown",
      "metadata": {
        "id": "CmoyJaKCTgS7"
      },
      "source": [
        "8 - Alterar o conteudo da coluna Sexo para:\n",
        "- female => Mulher\n",
        "- male   => Homem"
      ]
    },
    {
      "cell_type": "code",
      "source": [
        "Alterar o conteudo da coluna Sexo:\n",
        "\n",
        "\t  \tcont = 0\n",
        "    \t\tfor index, row in tit.iterrows():\n",
        "        \t\tif row[\"Sexo\"] == \"female\":\n",
        "            \t\t\ttit.iat[cont, 4] = \"Mulher\"\n",
        "            \t\t\tcont += 1\n",
        "       \t\t\telse:\n",
        "            \t\t\ttit.iat[cont, 4] = \"Homem\"\n",
        "            \t\t\tcont += 1"
      ],
      "metadata": {
        "id": "0HCSucRsTtaF"
      },
      "execution_count": null,
      "outputs": []
    },
    {
      "cell_type": "markdown",
      "metadata": {
        "id": "xns3YqQcTgS7"
      },
      "source": [
        "## Alguns números"
      ]
    },
    {
      "cell_type": "markdown",
      "metadata": {
        "id": "4pDJXfz3TgS7"
      },
      "source": [
        "9 - Quantas mulheres e quantos homems estavam à bordo, de acordo com o dataset?"
      ]
    },
    {
      "cell_type": "code",
      "source": [
        "Calculo de homens e mulher a bordo:\n",
        "\n",
        "\t\tlen(tit.loc[tit[\"Sexo\"] == \"Mulher\"]) \n",
        "\t\tlen(tit.loc[tit[\"Sexo\"] == \"Homem\"]) \n",
        "\t\t\n",
        "\t\t-----> 314 mulheres \n",
        "\t\t-----> 577 homens"
      ],
      "metadata": {
        "id": "vCAQLJAETvPA"
      },
      "execution_count": null,
      "outputs": []
    },
    {
      "cell_type": "markdown",
      "metadata": {
        "id": "o6lbuat3TgS7"
      },
      "source": [
        "10 - Quantos passageiros sobreviveram e quantos não sobreviveram?"
      ]
    },
    {
      "cell_type": "code",
      "source": [
        "Calculo de vivos e mortos:\n",
        "\n",
        "\t\tcontador_mortos = len(tit.loc[tit[\"Sobreviveu\"] == \"Nao\"])\n",
        "    \t\tcontador_vivos = len(tit.loc[tit[\"Sobreviveu\"] == \"Sim\"])\n",
        "\t\t\n",
        "\t\t-----> 342 vivos \n",
        "\t\t-----> 549 mortos"
      ],
      "metadata": {
        "id": "3QHMnzbCTweD"
      },
      "execution_count": null,
      "outputs": []
    },
    {
      "cell_type": "markdown",
      "metadata": {
        "id": "TJr51qAsTgS8"
      },
      "source": [
        "11 - Quantas mulheres não sobreviveram?"
      ]
    },
    {
      "cell_type": "code",
      "source": [
        "Calculo mulheres mortas:\n",
        "\t\t\n",
        "\t\tcontador_mulheres_vivas = len(tit.loc[(tit[\"Sobreviveu\"] == \"Nao\") & (tit[\"Sexo\"] == \"Mulher\")])\n",
        "\n",
        "\t\t-----> 81 mortas "
      ],
      "metadata": {
        "id": "3ODFPSasTx66"
      },
      "execution_count": null,
      "outputs": []
    },
    {
      "cell_type": "markdown",
      "metadata": {
        "id": "OLLm023rTgS8"
      },
      "source": [
        "12 - Proporcionalmente, sobreviveram mais homens ou mais mulheres? Cite as proporções."
      ]
    },
    {
      "cell_type": "code",
      "source": [
        "Aproximadamente 1/3 dos sobreviventes foram homens com 109 vivos, e aproximadamente 2/3 foram mulheres com 233 vivas, então sobreviveram mais mulheres \n"
      ],
      "metadata": {
        "id": "DaFvn87iTzDj"
      },
      "execution_count": null,
      "outputs": []
    },
    {
      "cell_type": "markdown",
      "metadata": {
        "id": "F5eLSZ_kTgS8"
      },
      "source": [
        "13 - Levando-se em consideração a idade dos passageiros, qual a idade e quantidade de pessoas com o maior número de mortos?"
      ]
    },
    {
      "cell_type": "code",
      "source": [
        "A faixa etária com maior número de vítimas foi os 21 anos de idade totalizando 19 mortos \n",
        "\n",
        "\t\tlista_idades = list(tit[\"Idade\"].drop_duplicates())\n",
        "    \t\tlista_idades.sort()\n",
        "    \t\tdict = {}\n",
        "    \t\tfor i in lista_idades:\n",
        "            \t\tdict[int(i)] = len(tit.loc[(tit[\"Sobreviveu\"] == \"Nao\") & (tit[\"Idade\"] == i)])"
      ],
      "metadata": {
        "id": "cPsUUJZIT0L8"
      },
      "execution_count": null,
      "outputs": []
    },
    {
      "cell_type": "markdown",
      "metadata": {
        "id": "Q6IAIybZTgS8"
      },
      "source": [
        "14 - Qual a média de idade dos homens sobreviventes?"
      ]
    },
    {
      "cell_type": "code",
      "source": [
        "Calculo da media da idade dos homens que sobreviveram:\n",
        "\n",
        "\t\tlista_idades_homens_vivos = []\n",
        "    \t\tfor index, row in tit.iterrows():\n",
        "        \t\tif row[\"Sobreviveu\"] == \"Sim\" and row[\"Sexo\"] == \"Homem\":\n",
        "            \t\t\tlista_idades_homens_vivos.append(float(row[\"Idade\"]))\n",
        "\n",
        "    \t\tmedia = sum(lista_idades_homens_vivos)/len(lista_idades_homens_vivos)\n",
        "\n",
        "\t\tmedia -----> 23.272201834862386 ou 23.27"
      ],
      "metadata": {
        "id": "eLd5KhGoT2SE"
      },
      "execution_count": null,
      "outputs": []
    },
    {
      "cell_type": "markdown",
      "metadata": {
        "id": "xj6hJjULTgS8"
      },
      "source": [
        "15 - Levando-se em consideração passageiros prioritários (mulheres e crianças de até 15 anos independente do sexo) qual a proporção de sobreviventes por sexo?"
      ]
    },
    {
      "cell_type": "code",
      "source": [
        "Calculo da proporção de homens e mulheres sobreviventes dado o grupo apresentado:\n",
        "\t\tcontador_mulheres = 0\n",
        "    \t\tcontador_homens = 0\n",
        "    \t\tfor index, row in tit.iterrows():\n",
        "        \t\tif row[\"Sobreviveu\"] == \"Sim\":\n",
        "            \t\t\tif row[\"Sexo\"] == \"Mulher\" or int(row[\"Idade\"] <= 15):\n",
        "                \t\t\tif row[\"Sexo\"] == \"Mulher\":\n",
        "                    \t\t\t\tcontador_mulheres += 1\n",
        "                \t\t\telse:\n",
        "                    \t\t\t\tcontador_homens += 1\n",
        "\t\t\n",
        "\t\thomens -----> 233\n",
        "\t\tmulheres -----> 37"
      ],
      "metadata": {
        "id": "94IR8qAQT4St"
      },
      "execution_count": null,
      "outputs": []
    },
    {
      "cell_type": "markdown",
      "metadata": {
        "id": "UB_bRGwGTgS8"
      },
      "source": [
        "16 - Qual a quantidade de passageiros por classe?"
      ]
    },
    {
      "cell_type": "code",
      "source": [
        "Quantidade de passageiros por classe:\n",
        "\n",
        "\t\tclasse_A = len(tit.loc[(tit[\"Classe\"] == 1)])\n",
        "   \t\tclasse_B = len(tit.loc[(tit[\"Classe\"] == 2)])\n",
        "    \t\tclasse_C = len(tit.loc[(tit[\"Classe\"] == 3)])\n",
        "\n",
        "\tclasse 1 -----> 216\n",
        "\tclasse 2 -----> 184\n",
        "\tclasse 3 -----> 491"
      ],
      "metadata": {
        "id": "U7ProdJ1T40D"
      },
      "execution_count": null,
      "outputs": []
    },
    {
      "cell_type": "markdown",
      "metadata": {
        "id": "2D4pHN2DTgS8"
      },
      "source": [
        "17 - Qual o percentual de sobreviventes por classe?"
      ]
    },
    {
      "cell_type": "code",
      "source": [
        "Qtd sobreviventes por Classe:\n",
        "\t\t\n",
        "\t\tqtd_classe1 = len(tit.loc[(tit[\"Classe\"] == 1) & (tit[\"Sobreviveu\"] == \"Sim\")])\n",
        "\t\tqtd_classe2 = len(tit.loc[(tit[\"Classe\"] == 2) & (tit[\"Sobreviveu\"] == \"Sim\")])\n",
        "\t\tqtd_classe3 = len(tit.loc[(tit[\"Classe\"] == 3) & (tit[\"Sobreviveu\"] == \"Sim\")])\n",
        "\n",
        "\t\tquotient1 = qtd_classe1 / 342\n",
        "    \t\tpercent1 = quotient1 * 100\n",
        "\n",
        "    \t\tquotient2 = qtd_classe2 / 342\n",
        "    \t\tpercent2 = quotient2 * 100\n",
        "\n",
        "    \t\tquotient3 = qtd_classe3 / 342\n",
        "    \t\tpercent3 = quotient3 * 100\n",
        "\n",
        "\n",
        "\n",
        "\t\tclasse 1 -----> 136\n",
        "\t\tclasse 2 -----> 87\n",
        "\t\tclasse 3 -----> 119\n",
        "\tou seja, \n",
        "\t\tclasse 1 -> 39,7%\n",
        "\t\tclasse 2 -> 25,4%\n",
        "\t\tclasse 3 -> 34,7%\n"
      ],
      "metadata": {
        "id": "1FdQfnmCT6We"
      },
      "execution_count": null,
      "outputs": []
    },
    {
      "cell_type": "markdown",
      "metadata": {
        "id": "g_WXfCJ6TgS8"
      },
      "source": [
        "18 - Crie um dataframe que demonstre a quantidade de sobreviventes e não sobreviventes, agrupados por sexo e classe."
      ]
    },
    {
      "cell_type": "code",
      "source": [
        "Codigo pra criação do dataframe:\n",
        "\n",
        "\t\tdicio = {\n",
        "        \t\t'Homem_Classe_1': [45, 77],\n",
        "        \t\t'Homem_Classe_2': [17, 91],\n",
        "        \t\t'Homem_Classe_3': [47, 300],\n",
        "      \t\t \t'Mulher_Classe_1': [91, 3],\n",
        "     \t\t   \t'Mulher_Classe_2': [70, 6],\n",
        "        \t\t'Mulher_Classe_3': [72, 72]\n",
        "    \t\t\t}\n",
        "\n",
        "    \t\tdf = pd.DataFrame(dicio, index=['Vivos', \"Mortos\"])\n",
        "\n",
        "\n",
        "\tCodigo para verificação dos valores inseridos no dataframe:\n",
        "\n",
        "\t\tqtd_classe1_homem = len(tit.loc[(tit[\"Classe\"] == 1) & (tit[\"Sobreviveu\"] == \"Sim\") & (tit[\"Sexo\"] == \"Homem\")])\n",
        "    \t\tqtd_classe2_homem = len(tit.loc[(tit[\"Classe\"] == 2) & (tit[\"Sobreviveu\"] == \"Sim\") & (tit[\"Sexo\"] == \"Homem\")])\n",
        "    \t\tqtd_classe3_homem = len(tit.loc[(tit[\"Classe\"] == 3) & (tit[\"Sobreviveu\"] == \"Sim\") & (tit[\"Sexo\"] == \"Homem\")])\n",
        "    \t\tqtd_classe1_mulher = len(tit.loc[(tit[\"Classe\"] == 1) & (tit[\"Sobreviveu\"] == \"Sim\") & (tit[\"Sexo\"] == \"Mulher\")])\n",
        "    \t\tqtd_classe2_mulher = len(tit.loc[(tit[\"Classe\"] == 2) & (tit[\"Sobreviveu\"] == \"Sim\") & (tit[\"Sexo\"] == \"Mulher\")])\n",
        "    \t\tqtd_classe3_mulher = len(tit.loc[(tit[\"Classe\"] == 3) & (tit[\"Sobreviveu\"] == \"Sim\") & (tit[\"Sexo\"] == \"Mulher\")])\n",
        "\n",
        "    \t\tqtd_classe1_homem_morto = len(tit.loc[(tit[\"Classe\"] == 1) & (tit[\"Sobreviveu\"] == \"Nao\") & (tit[\"Sexo\"] == \"Homem\")])\n",
        "    \t\tqtd_classe2_homem_morto = len(tit.loc[(tit[\"Classe\"] == 2) & (tit[\"Sobreviveu\"] == \"Nao\") & (tit[\"Sexo\"] == \"Homem\")])\n",
        "    \t\tqtd_classe3_homem_morto = len(tit.loc[(tit[\"Classe\"] == 3) & (tit[\"Sobreviveu\"] == \"Nao\") & (tit[\"Sexo\"] == \"Homem\")])\n",
        "   \t\tqtd_classe1_mulher_morto = len(tit.loc[(tit[\"Classe\"] == 1) & (tit[\"Sobreviveu\"] == \"Nao\") & (tit[\"Sexo\"] == \"Mulher\")])\n",
        "    \t\tqtd_classe2_mulher_morto = len(tit.loc[(tit[\"Classe\"] == 2) & (tit[\"Sobreviveu\"] == \"Nao\") & (tit[\"Sexo\"] == \"Mulher\")])\n",
        "    \t\tqtd_classe3_mulher_morto = len(tit.loc[(tit[\"Classe\"] == 3) & (tit[\"Sobreviveu\"] == \"Nao\") & (tit[\"Sexo\"] == \"Mulher\")])\n",
        "\t\n",
        "\n"
      ],
      "metadata": {
        "id": "qJ6RiYRRT7So"
      },
      "execution_count": null,
      "outputs": []
    },
    {
      "cell_type": "markdown",
      "metadata": {
        "id": "MI1Q_xXKTgS9"
      },
      "source": [
        "19 - Dos homens com idade entre 24 e 30 anos quantos da classe 3 sobreviveram? Quantos da classe 2 não sobreviveram?"
      ]
    },
    {
      "cell_type": "code",
      "source": [
        "1° forma de resolução do problema:\n",
        "\t\thomens_vivos_classe3 = 0\n",
        "    \t\thomens_vivos_classe2 = 0\n",
        "    \t\tfor index, row in tit.iterrows():\n",
        "        \t\tif row[\"Sexo\"] == \"Homem\" and row[\"Sobreviveu\"] == \"Sim\":\n",
        "            \t\t\tif row[\"Idade\"] >= 24 and row[\"Idade\"] <= 30:\n",
        "                \t\t\tif row[\"Classe\"] == 3:\n",
        "                   \t\t\t\thomens_vivos_classe3 += 1\n",
        "                \t\t\telif row[\"Classe\"] == 2:\n",
        "                    \t\t\t\thomens_vivos_classe2 += 1\n",
        "\t\n",
        "\t\t\n",
        "\thomens vivos classe 2 -----> 0\n",
        "\thomens vivos classe 3 -----> 12\t"
      ],
      "metadata": {
        "id": "KhmuwtA_T8ZN"
      },
      "execution_count": null,
      "outputs": []
    },
    {
      "cell_type": "markdown",
      "metadata": {
        "id": "OfWqSae2TgS9"
      },
      "source": [
        "20 - Calcule a probabilidade condicional de uma pessoa sobreviver, dado seu sexo e a classe em que estava viajando:\n",
        "- P(S= true | G=female,C=1)\n",
        "- P(S= true | G=female,C=2)\n",
        "- P(S= true | G=female,C=3)\n",
        "- P(S= true | G=male,C=1)\n",
        "- P(S= true | G=male,C=2)\n",
        "- P(S= true | G=male,C=3)"
      ]
    },
    {
      "cell_type": "code",
      "source": [
        "Cálculo da possibilidade condicional destacada no título:\n",
        "\t\tquotient_classe1_homem = qtd_classe1_homem / 342\n",
        "    \t\tpercent_classe1_homem = quotient_classe1_homem * 100\n",
        "\n",
        "    \t\tquotient_classe2_homem = qtd_classe2_homem / 342\n",
        "    \t\tpercent_classe2_homem = quotient_classe2_homem * 100\n",
        "\n",
        "    \t\tquotient_classe3_homem = qtd_classe3_homem / 342\n",
        "    \t\tpercent_classe3_homem = quotient_classe3_homem * 100\n",
        "\n",
        "    \t\tquotient_classe1_mulher = qtd_classe1_mulher / 342\n",
        "    \t\tpercent_classe1_mulher = quotient_classe1_mulher * 100\n",
        "\n",
        "    \t\tquotient_classe2_mulher = qtd_classe2_mulher / 342\n",
        "    \t\tpercent_classe2_mulher = quotient_classe2_mulher * 100\n",
        "\n",
        "    \t\tquotient_classe3_mulher = qtd_classe3_mulher / 342\n",
        "    \t\tpercent_classe3_mulher = quotient_classe3_mulher * 100\n",
        "\n",
        "\n",
        "\tP(S= true | G=female,C=1) ----> 13,15%\n",
        "\tP(S= true | G=female,C=2) ----> 4,97% \n",
        "\tP(S= true | G=female,C=3) ----> 13,74%\n",
        "\tP(S= true | G=male,C=1) ----> 26,6%\n",
        "\tP(S= true | G=male,C=2) ----> 20,46%\n",
        "\tP(S= true | G=male,C=3) ----> 21.05%\n",
        "\n"
      ],
      "metadata": {
        "id": "oNT0peDdT92N"
      },
      "execution_count": null,
      "outputs": []
    }
  ],
  "metadata": {
    "kernelspec": {
      "display_name": "Python 3",
      "language": "python",
      "name": "python3"
    },
    "language_info": {
      "codemirror_mode": {
        "name": "ipython",
        "version": 3
      },
      "file_extension": ".py",
      "mimetype": "text/x-python",
      "name": "python",
      "nbconvert_exporter": "python",
      "pygments_lexer": "ipython3",
      "version": "3.7.3"
    },
    "colab": {
      "provenance": [],
      "collapsed_sections": []
    }
  },
  "nbformat": 4,
  "nbformat_minor": 0
}